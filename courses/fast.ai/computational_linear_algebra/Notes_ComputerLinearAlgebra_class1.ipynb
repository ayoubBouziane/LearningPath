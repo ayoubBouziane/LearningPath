{
 "cells": [
  {
   "cell_type": "markdown",
   "metadata": {},
   "source": [
    "There are two key types of matrix compuatation, Which get combined in many different ways. These are,\n",
    "1. Matrix and tensor products\n",
    "2. Matrix decompositions\n",
    "\n",
    "### Matrix and Tensor products:\n",
    "#### Matrix-Vector products:\n",
    "##### Understanding of Markov Chain and Stochastic Matrix:\n",
    "\n",
    "<b>Stochastic Matrix:</b>:\n",
    "An n * n matrix whose columns are probability vectors. Entries are between 0 and 1, Inclusive and whose columns sum to 1. Used to examine the transitions in populations.\n",
    "\n",
    "<b>Markov chain</b>:\n",
    "A sequence of probability vectors(x0,x1,...xn) with a stoccourses/fast.ai/computational_linear_algebra/images/markov_health.jpghastic matrix P, such that x1= Px0,x2 = PX1,...\n",
    "The outcome of a current trial is always depenent upon the previous trial.\n",
    "State vector:xk probability vector in the Markov chain.\n",
    "\n",
    "<b>Problem:</b>\n",
    "The matrix below gives the probabilities of moving from 1 health state to another in 1 year. If the current health states for a group are:\n",
    "85% asymptomatic\n",
    "10% symptomatic\n",
    "5% AIDS\n",
    "0% death\n",
    "what will be the % in each health state in 1 year?\n",
    "![Markov_chain](images/markov_health.jpg)"
   ]
  },
  {
   "cell_type": "code",
   "execution_count": 6,
   "metadata": {},
   "outputs": [],
   "source": [
    "import numpy as np\n",
    "A = np.array([[0.90, 0.07, 0.02, 0.01],\n",
    "              [0.00, 0.93, 0.05, 0.02],\n",
    "              [0.00, 0.00, 0.85, 0.15],\n",
    "              [0.00, 0.00, 0.00, 1.00]]\n",
    "            )\n",
    "B = np.array([0.85, 0.10, 0.05, 0])"
   ]
  },
  {
   "cell_type": "code",
   "execution_count": 7,
   "metadata": {},
   "outputs": [
    {
     "data": {
      "text/plain": [
       "array([0.765 , 0.1525, 0.0645, 0.018 ])"
      ]
     },
     "execution_count": 7,
     "metadata": {},
     "output_type": "execute_result"
    }
   ],
   "source": [
    "A.T @ B.T"
   ]
  },
  {
   "cell_type": "markdown",
   "metadata": {},
   "source": [
    "#### Matrix Matrix Products"
   ]
  },
  {
   "cell_type": "markdown",
   "metadata": {},
   "source": [
    "<b> Problem </b>"
   ]
  },
  {
   "cell_type": "markdown",
   "metadata": {},
   "source": [
    "<img src=\"images/shop.png\" alt=\"floating point\" style=\"width: 100%\"/>(Source: [Several Simple Real-world Applications of Linear Algebra Tools](https://www.mff.cuni.cz/veda/konference/wds/proc/pdf06/WDS06_106_m8_Ulrychova.pdf))"
   ]
  },
  {
   "cell_type": "code",
   "execution_count": 15,
   "metadata": {},
   "outputs": [],
   "source": [
    "import numpy as np\n",
    "\n",
    "P = np.array([[6, 5, 3, 1],\n",
    "            [3, 6, 2, 2],\n",
    "            [3, 4, 3, 1]])\n",
    "\n",
    "S = np.array([[1.50, 1.00],\n",
    "             [2.00, 2.50],\n",
    "             [5.00, 4.50],\n",
    "             [16.00, 17.00]])"
   ]
  },
  {
   "cell_type": "code",
   "execution_count": 16,
   "metadata": {},
   "outputs": [
    {
     "name": "stdout",
     "output_type": "stream",
     "text": [
      "[[50.  49. ]\n",
      " [58.5 61. ]\n",
      " [43.5 43.5]]\n"
     ]
    }
   ],
   "source": [
    "print(P @ S)"
   ]
  },
  {
   "cell_type": "code",
   "execution_count": null,
   "metadata": {},
   "outputs": [],
   "source": []
  }
 ],
 "metadata": {
  "kernelspec": {
   "display_name": "Python 3",
   "language": "python",
   "name": "python3"
  },
  "language_info": {
   "codemirror_mode": {
    "name": "ipython",
    "version": 3
   },
   "file_extension": ".py",
   "mimetype": "text/x-python",
   "name": "python",
   "nbconvert_exporter": "python",
   "pygments_lexer": "ipython3",
   "version": "3.5.2"
  }
 },
 "nbformat": 4,
 "nbformat_minor": 2
}
