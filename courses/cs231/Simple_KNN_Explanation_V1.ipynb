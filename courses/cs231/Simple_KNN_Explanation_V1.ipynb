{
 "cells": [
  {
   "cell_type": "code",
   "execution_count": 1,
   "metadata": {},
   "outputs": [],
   "source": [
    "# Import Lib\n",
    "import numpy as np\n",
    "import math"
   ]
  },
  {
   "cell_type": "markdown",
   "metadata": {},
   "source": [
    "#### Similarity\n",
    "In order to make predictions we need to calculate the similarity between any two given data instances. This is needed so that we can locate the k most similar data instances in the training dataset for a given member of the test dataset and in turn make a prediction."
   ]
  },
  {
   "cell_type": "code",
   "execution_count": 17,
   "metadata": {},
   "outputs": [],
   "source": [
    "def distance(instance1, instance2):\n",
    "    # just in case, if the instances are lists or tuples:\n",
    "    instance1 = np.array(instance1) \n",
    "    instance2 = np.array(instance2)\n",
    "    diff = instance1 - instance2\n",
    "    return np.linalg.norm(diff)"
   ]
  },
  {
   "cell_type": "code",
   "execution_count": 18,
   "metadata": {},
   "outputs": [
    {
     "data": {
      "text/plain": [
       "5.196152422706632"
      ]
     },
     "execution_count": 18,
     "metadata": {},
     "output_type": "execute_result"
    }
   ],
   "source": [
    "trainSet = [(1, 1, 1)]\n",
    "testSet = [(4, 4, 4)]\n",
    "distance(testSet, trainSet)"
   ]
  },
  {
   "cell_type": "markdown",
   "metadata": {},
   "source": [
    "#### Neighbors\n",
    "Now that we have a similarity measure, we can use it collect the k most similar instances for a given unseen instance."
   ]
  },
  {
   "cell_type": "code",
   "execution_count": 19,
   "metadata": {},
   "outputs": [],
   "source": [
    "def get_neighbors(training_set, \n",
    "                  labels, \n",
    "                  test_instance, \n",
    "                  k, \n",
    "                  distance=distance):\n",
    "    \"\"\"\n",
    "    get_neighors calculates a list of the k nearest neighbors\n",
    "    of an instance 'test_instance'.\n",
    "    The list neighbors contains 3-tuples with  \n",
    "    (index, dist, label)\n",
    "    where \n",
    "    index    is the index from the training_set, \n",
    "    dist     is the distance between the test_instance and the \n",
    "             instance training_set[index]\n",
    "    distance is a reference to a function used to calculate the \n",
    "             distances\n",
    "    \"\"\"\n",
    "    distances = []\n",
    "    for index in range(len(training_set)):\n",
    "        dist = distance(test_instance, training_set)\n",
    "        #print(dist)\n",
    "        distances.append((training_set[index], dist, labels[index]))\n",
    "    #print('distances', distances)\n",
    "    distances.sort(key=lambda x: x[1])\n",
    "    #print('distances', distances)\n",
    "    #neighbors = distances[:k]\n",
    "    neighbors = distances[:k]\n",
    "    return neighbors"
   ]
  },
  {
   "cell_type": "code",
   "execution_count": 20,
   "metadata": {},
   "outputs": [
    {
     "name": "stdout",
     "output_type": "stream",
     "text": [
      "[((1, 1, 1), 8.831760866327848, 'apple')]\n"
     ]
    }
   ],
   "source": [
    "train_set = [(1, 1, 1),\n",
    "             (3, 3, 3),\n",
    "             (8, 8, 8),\n",
    "            ]\n",
    "\n",
    "labels = ['apple',  'banana', 'apple']\n",
    "k = 1\n",
    "for test_instance in [(4, 4, 4)]:\n",
    "    neighbors = get_neighbors(train_set, \n",
    "                              labels, \n",
    "                              test_instance, \n",
    "                              k)\n",
    "    print(neighbors)"
   ]
  },
  {
   "cell_type": "markdown",
   "metadata": {},
   "source": [
    "#### Get vote\n",
    "Once we have located the most similar neighbors for a test instance, the next task is to devise a predicted response based on those neighbors.\n",
    "We can do this by allowing each neighbor to vote for their class attribute, and take the majority vote as the prediction."
   ]
  },
  {
   "cell_type": "code",
   "execution_count": 21,
   "metadata": {},
   "outputs": [],
   "source": [
    "from collections import Counter\n",
    "def vote(neighbors):\n",
    "    class_counter = Counter()\n",
    "    for neighbor in neighbors:\n",
    "        #print('neighbors', neighbors)\n",
    "        #print(class_counter[neighbor[2]])\n",
    "        class_counter[neighbor[2]] += 1\n",
    "    #print(class_counter[neighbor[2]])\n",
    "    #print(class_counter)\n",
    "    return class_counter.most_common(1)[0][0]"
   ]
  },
  {
   "cell_type": "code",
   "execution_count": 22,
   "metadata": {},
   "outputs": [
    {
     "name": "stdout",
     "output_type": "stream",
     "text": [
      "vote distance weights:  apple\n"
     ]
    }
   ],
   "source": [
    "train_set = [(1, 1, 1),\n",
    "             (3, 3, 3),\n",
    "             (8, 8, 8),\n",
    "            ]\n",
    "\n",
    "labels = ['apple',  'banana', 'apple']\n",
    "k = 1\n",
    "for test_instance in [(4, 4, 4)]:\n",
    "    neighbors = get_neighbors(train_set, \n",
    "                              labels, \n",
    "                              test_instance, \n",
    "                              3)\n",
    "    print(\"vote distance weights: \", vote(neighbors))"
   ]
  },
  {
   "cell_type": "markdown",
   "metadata": {},
   "source": [
    "'vote_prob' is a function like 'vote' but returns the class name and the probability for this class:"
   ]
  },
  {
   "cell_type": "code",
   "execution_count": 23,
   "metadata": {},
   "outputs": [],
   "source": [
    "def vote_prob(neighbors):\n",
    "    class_counter = Counter()\n",
    "    for neighbor in neighbors:\n",
    "        class_counter[neighbor[2]] += 1\n",
    "    labels, votes = zip(*class_counter.most_common())\n",
    "    winner = class_counter.most_common(1)[0][0]\n",
    "    votes4winner = class_counter.most_common(1)[0][1]\n",
    "    return winner, votes4winner/sum(votes)"
   ]
  },
  {
   "cell_type": "code",
   "execution_count": 27,
   "metadata": {},
   "outputs": [
    {
     "name": "stdout",
     "output_type": "stream",
     "text": [
      "['apple']\n"
     ]
    }
   ],
   "source": [
    "train_set = [(1, 1, 1),\n",
    "             (3, 3, 3),\n",
    "             (8, 8, 8),\n",
    "            ]\n",
    "\n",
    "labels = ['apple',  'banana', 'apple']\n",
    "k = 1\n",
    "predictions=[]\n",
    "for test_instance in [(4, 4, 4)]:\n",
    "    neighbors = get_neighbors(train_set, \n",
    "                              labels, \n",
    "                              test_instance, \n",
    "                              3)\n",
    "    result = vote(neighbors)\n",
    "    predictions.append(result)\n",
    "    print(predictions)"
   ]
  },
  {
   "cell_type": "code",
   "execution_count": null,
   "metadata": {},
   "outputs": [],
   "source": [
    "#def getAccuracy(testSet, predictions):\n",
    "#    correct = 0\n",
    "#    for x in range(len(testSet)):\n",
    "#        if testSet[x][-1] is predictions[x]:\n",
    "#        correct += 1\n",
    "#    return (correct/float(len(testSet))) * 100.0"
   ]
  },
  {
   "cell_type": "code",
   "execution_count": 39,
   "metadata": {},
   "outputs": [
    {
     "name": "stdout",
     "output_type": "stream",
     "text": [
      "> predicted='apple'\n",
      "> predicted='apple'\n"
     ]
    }
   ],
   "source": [
    "train_set = [(1, 1, 1),\n",
    "             (3, 3, 3),\n",
    "             (8, 8, 8),\n",
    "            ]\n",
    "\n",
    "labels = ['apple',  'banana', 'apple']\n",
    "\n",
    "test_set = [(2, 3, 8),\n",
    "             (1, 4, 6),\n",
    "            ]\n",
    "k = 1\n",
    "predictions=[]\n",
    "for x in range(len(test_set)):\n",
    "    neighbors = get_neighbors(train_set, \n",
    "                              labels, \n",
    "                              test_set[x], \n",
    "                              3)\n",
    "    result = vote(neighbors)\n",
    "    predictions.append(result)\n",
    "    print('> predicted=' + repr(result))"
   ]
  },
  {
   "cell_type": "code",
   "execution_count": null,
   "metadata": {},
   "outputs": [],
   "source": []
  }
 ],
 "metadata": {
  "kernelspec": {
   "display_name": "Python 3",
   "language": "python",
   "name": "python3"
  },
  "language_info": {
   "codemirror_mode": {
    "name": "ipython",
    "version": 3
   },
   "file_extension": ".py",
   "mimetype": "text/x-python",
   "name": "python",
   "nbconvert_exporter": "python",
   "pygments_lexer": "ipython3",
   "version": "3.6.7"
  }
 },
 "nbformat": 4,
 "nbformat_minor": 2
}
