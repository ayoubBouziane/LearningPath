{
 "cells": [
  {
   "cell_type": "markdown",
   "metadata": {},
   "source": [
    "# Normal Distribution"
   ]
  },
  {
   "cell_type": "markdown",
   "metadata": {},
   "source": [
    "Data can be \"distributed\" (spread out) in different ways."
   ]
  },
  {
   "cell_type": "code",
   "execution_count": 2,
   "metadata": {},
   "outputs": [
    {
     "data": {
      "image/png": "[encoded data removed]",
      "text/plain": [
       "<Figure size 432x288 with 1 Axes>"
      ]
     },
     "metadata": {},
     "output_type": "display_data"
    }
   ],
   "source": [
    "import numpy as np\n",
    "import seaborn as sns\n",
    "sns.set(color_codes=True)\n",
    "x = np.random.normal(size=100)\n",
    "sns.distplot(x);"
   ]
  },
  {
   "cell_type": "markdown",
   "metadata": {},
   "source": [
    "But there are many cases where the data tends to be around a central value with no bias left or right, and it gets close to a \"Normal Distribution\" like this:\n",
    "![alt text](images/normal-distribution-1.svg)"
   ]
  },
  {
   "cell_type": "markdown",
   "metadata": {},
   "source": [
    "We say the data is \"normally distributed\":\n",
    "The Normal Distribution has:\n",
    "* mean = median = mode\n",
    "* symmetry about the centre\n",
    "* 50% of values less than the mean \n",
    "* and 50% greater than the mean"
   ]
  },
  {
   "cell_type": "markdown",
   "metadata": {},
   "source": [
    "![alt text](images/normal-distribution-2.svg)"
   ]
  },
  {
   "cell_type": "markdown",
   "metadata": {},
   "source": [
    "<b>Mean</b>   - It is the sum divided by the count\n",
    "\n",
    "<b>Median</b> - \"middle\" of a sorted list of numbers\n",
    "\n",
    "<b>Mode</b>   - Simply the number which appears most often"
   ]
  },
  {
   "cell_type": "markdown",
   "metadata": {},
   "source": [
    "### Standard Deviations"
   ]
  },
  {
   "cell_type": "markdown",
   "metadata": {},
   "source": [
    "The Standard Deviation is a measure of how spread out numbers are.Its symbol is σ (the greek letter sigma).\n",
    "it is the square root of the Variance\n",
    "\n",
    "#### Variance\n",
    "The average of the squared differences from the Mean.</br>\n",
    "For example,</br>\n",
    "\n",
    "You and your friends have just measured the heights of your dogs (in millimetres):\n",
    "The heights (at the shoulders) are: 600mm, 470mm, 170mm, 430mm and 300mm.\n",
    "Then mean, (600 + 470 + 170 + 430 + 3005) / (5) = 394 \n",
    "Variance = ((2062 + 762 + (−224)2 + 362 + (−94)square2) / (5) = 21704\n",
    "standard deviation is square root of 21704.\n",
    "\n",
    "![alt text](images/standard-deviation-formula.gif)"
   ]
  },
  {
   "cell_type": "markdown",
   "metadata": {},
   "source": [
    "Example: 9, 2, 5, 4, 12, 7, 8, 11, 9, 3, 7, 4, 12, 5, 4, 10, 9, 6, 9, 4\n",
    "    \n",
    "In the formula above μ (the greek letter \"mu\") is the mean of all our values.<br>\n",
    "xi is they are the individual x values 9, 2, 5, 4, 12, 7, etc...<br>\n",
    "![alt text](images/sigma-notation.svg)"
   ]
  },
  {
   "cell_type": "markdown",
   "metadata": {},
   "source": [
    "[Reference](https://www.mathsisfun.com/data/standard-normal-distribution.html)"
   ]
  },
  {
   "cell_type": "code",
   "execution_count": null,
   "metadata": {},
   "outputs": [],
   "source": []
  }
 ],
 "metadata": {
  "anaconda-cloud": {},
  "kernelspec": {
   "display_name": "Python 3",
   "language": "python",
   "name": "python3"
  },
  "language_info": {
   "codemirror_mode": {
    "name": "ipython",
    "version": 2
   },
   "file_extension": ".py",
   "mimetype": "text/x-python",
   "name": "python",
   "nbconvert_exporter": "python",
   "pygments_lexer": "ipython2",
   "version": "2.7.15"
  }
 },
 "nbformat": 4,
 "nbformat_minor": 2
}
